{
 "metadata": {
  "language_info": {
   "codemirror_mode": {
    "name": "ipython",
    "version": 3
   },
   "file_extension": ".py",
   "mimetype": "text/x-python",
   "name": "python",
   "nbconvert_exporter": "python",
   "pygments_lexer": "ipython3",
   "version": "3.7.7"
  },
  "orig_nbformat": 2,
  "kernelspec": {
   "name": "python377jvsc74a57bd05509c4c259a5a49102f826d234aea18f0c83b903638cb80c1a627f502e3896ba",
   "display_name": "Python 3.7.7 64-bit ('pytorch': conda)"
  }
 },
 "nbformat": 4,
 "nbformat_minor": 2,
 "cells": [
  {
   "cell_type": "code",
   "execution_count": 1,
   "metadata": {},
   "outputs": [],
   "source": [
    "import torch\n",
    "import sys,os\n",
    "sys.path.append(os.pardir)\n",
    "from bert_seq2seq.tokenizer import Tokenizer, load_chinese_base_vocab\n",
    "import json\n",
    "import time\n",
    "import bert_seq2seq\n",
    "from bert_seq2seq.utils import load_bert\n",
    "import lawrouge"
   ]
  },
  {
   "cell_type": "code",
   "execution_count": 2,
   "metadata": {},
   "outputs": [
    {
     "output_type": "stream",
     "name": "stdout",
     "text": [
      "精简后的词表大小为：13584\n",
      "./model_file/trained_model/summary_roberta_wwm.bin loaded!\n"
     ]
    }
   ],
   "source": [
    "model = \"./model_file/trained_model/summary_roberta_wwm.bin\"\n",
    "# model2 = \"./model_file/trained_model/summary_roberta_wwm_256.bin\"\n",
    "vocab_text = \"./vocab/vocab.txt\"\n",
    "model_name = \"roberta\"\n",
    "device = torch.device(\"cuda\" if torch.cuda.is_available() else \"cpu\")\n",
    "# 加载字典\n",
    "word2idx,_ = load_chinese_base_vocab(vocab_path=vocab_text,simplfied=True)\n",
    "tokenizer = Tokenizer(word2idx)\n",
    "# 定义模型\n",
    "bert_model = load_bert(word2idx,model_name=model_name)\n",
    "bert_model.set_device(device)\n",
    "bert_model.eval()\n",
    "bert_model.load_all_params(model_path=model, device=device)"
   ]
  },
  {
   "cell_type": "code",
   "execution_count": 3,
   "metadata": {},
   "outputs": [
    {
     "output_type": "execute_result",
     "data": {
      "text/plain": [
       "                                             summary  \\\n",
       "0  北京精神病人被用束缚带绑床上，遭病友掐死；法院认定医院管理不当、值班护士失职，构成医疗事故罪。\\n   \n",
       "1       世界卫生组织发布报告称，在过去10年，自杀取代难产死亡，成为全球年轻女性死亡的最主要原因   \n",
       "2  温州瑞安重度烧伤孕妇已有清晰意识，急需A型血小板；5月9日其煮夜宵时发生爆燃，已收捐款超600万。   \n",
       "3       据雅虎体育，莫里斯-威廉姆斯与骑士达成协议，将与詹皇重聚，他将签下2年430万美元的合同   \n",
       "4            天津：5月31日起外地人买房不再送户口，取消蓝印户口政策，以“积分落户”取代。   \n",
       "\n",
       "                                             article  \n",
       "0    24岁的男子小罗（化名）因患有精神病被送进医院，为防止他伤害自己，医院用保护带将其绑在床...  \n",
       "1    中新网5月26日电据外媒报道，世界卫生组织日前发布了一份报告，指出自杀已经取代难产，成为...  \n",
       "2    温州网讯昨天，广受关注的“瑞安孕妇重度烧伤”一事有了新进展：家属称，王芙蓉现阶段治疗急需...  \n",
       "3    2015-07-0710:00新浪体育大神爆料北京时间7月7日消息，据《雅虎体育》报道，...  \n",
       "4    京华时报记者张然商西邢飞天津将于5月底取消蓝印户口政策，“积分落户”将取而代之，这意味着...  "
      ],
      "text/html": "<div>\n<style scoped>\n    .dataframe tbody tr th:only-of-type {\n        vertical-align: middle;\n    }\n\n    .dataframe tbody tr th {\n        vertical-align: top;\n    }\n\n    .dataframe thead th {\n        text-align: right;\n    }\n</style>\n<table border=\"1\" class=\"dataframe\">\n  <thead>\n    <tr style=\"text-align: right;\">\n      <th></th>\n      <th>summary</th>\n      <th>article</th>\n    </tr>\n  </thead>\n  <tbody>\n    <tr>\n      <th>0</th>\n      <td>北京精神病人被用束缚带绑床上，遭病友掐死；法院认定医院管理不当、值班护士失职，构成医疗事故罪。\\n</td>\n      <td>24岁的男子小罗（化名）因患有精神病被送进医院，为防止他伤害自己，医院用保护带将其绑在床...</td>\n    </tr>\n    <tr>\n      <th>1</th>\n      <td>世界卫生组织发布报告称，在过去10年，自杀取代难产死亡，成为全球年轻女性死亡的最主要原因</td>\n      <td>中新网5月26日电据外媒报道，世界卫生组织日前发布了一份报告，指出自杀已经取代难产，成为...</td>\n    </tr>\n    <tr>\n      <th>2</th>\n      <td>温州瑞安重度烧伤孕妇已有清晰意识，急需A型血小板；5月9日其煮夜宵时发生爆燃，已收捐款超600万。</td>\n      <td>温州网讯昨天，广受关注的“瑞安孕妇重度烧伤”一事有了新进展：家属称，王芙蓉现阶段治疗急需...</td>\n    </tr>\n    <tr>\n      <th>3</th>\n      <td>据雅虎体育，莫里斯-威廉姆斯与骑士达成协议，将与詹皇重聚，他将签下2年430万美元的合同</td>\n      <td>2015-07-0710:00新浪体育大神爆料北京时间7月7日消息，据《雅虎体育》报道，...</td>\n    </tr>\n    <tr>\n      <th>4</th>\n      <td>天津：5月31日起外地人买房不再送户口，取消蓝印户口政策，以“积分落户”取代。</td>\n      <td>京华时报记者张然商西邢飞天津将于5月底取消蓝印户口政策，“积分落户”将取而代之，这意味着...</td>\n    </tr>\n  </tbody>\n</table>\n</div>"
     },
     "metadata": {},
     "execution_count": 3
    }
   ],
   "source": [
    "import pandas as pd\n",
    "df = pd.read_csv(\"./dataset/evaluation_with_ground_truth.csv\")\n",
    "del df[\"Unnamed: 0\"]\n",
    "df.head()"
   ]
  },
  {
   "cell_type": "code",
   "execution_count": 27,
   "metadata": {},
   "outputs": [],
   "source": [
    "test_data = df[\"article\"][:100]\n",
    "df[\"summary\"][:100].to_csv(\"test.txt\")\n"
   ]
  },
  {
   "cell_type": "code",
   "execution_count": 28,
   "metadata": {},
   "outputs": [],
   "source": [
    "res = []\n",
    "for text in test_data:\n",
    "    with torch.no_grad():\n",
    "        temp = bert_model.generate(text, beam_size=4,out_max_length=150)\n",
    "        res.append(temp.replace(\" \",\"\"))"
   ]
  },
  {
   "cell_type": "code",
   "execution_count": 29,
   "metadata": {},
   "outputs": [],
   "source": [
    "res_df = pd.DataFrame(res)\n",
    "res_df.head()\n",
    "res_df.to_csv(\"res.txt\")"
   ]
  },
  {
   "cell_type": "code",
   "execution_count": 53,
   "metadata": {},
   "outputs": [
    {
     "output_type": "execute_result",
     "data": {
      "text/plain": [
       "[{'rouge-1': {'f': 0.8421052581717452, 'p': 0.8888888888888888, 'r': 0.8},\n",
       "  'rouge-2': {'f': 0.5882352891349482, 'p': 0.625, 'r': 0.5555555555555556},\n",
       "  'rouge-l': {'f': 0.8421052581717452, 'p': 0.8888888888888888, 'r': 0.8}}]"
      ]
     },
     "metadata": {},
     "execution_count": 53
    }
   ],
   "source": [
    "rouge = lawrouge.Rouge()\n",
    "score = rouge.get_scores('./res.txt','./test.txt',avg=0)\n",
    "score"
   ]
  },
  {
   "cell_type": "code",
   "execution_count": 42,
   "metadata": {},
   "outputs": [
    {
     "output_type": "execute_result",
     "data": {
      "text/plain": [
       "[{'rouge-1': {'f': 0.459999995242,\n",
       "   'p': 0.3770491803278688,\n",
       "   'r': 0.5897435897435898},\n",
       "  'rouge-2': {'f': 0.2857142809662641,\n",
       "   'p': 0.23333333333333334,\n",
       "   'r': 0.3684210526315789},\n",
       "  'rouge-l': {'f': 0.3999999952420001,\n",
       "   'p': 0.32786885245901637,\n",
       "   'r': 0.5128205128205128}}]"
      ]
     },
     "metadata": {},
     "execution_count": 42
    }
   ],
   "source": [
    "score4 = rouge.get_scores(res[4], test_res[4], avg=0)\n",
    "score4"
   ]
  },
  {
   "cell_type": "code",
   "execution_count": 38,
   "metadata": {},
   "outputs": [
    {
     "output_type": "execute_result",
     "data": {
      "text/plain": [
       "{'f': 0.7405572705570265, 'p': 0.7833333333333334, 'r': 0.7022222222222223}"
      ]
     },
     "metadata": {},
     "execution_count": 38
    }
   ],
   "source": [
    "score"
   ]
  },
  {
   "cell_type": "code",
   "execution_count": 33,
   "metadata": {},
   "outputs": [
    {
     "output_type": "execute_result",
     "data": {
      "text/plain": [
       "[{'rouge-1': {'f': 0.6506024046566993,\n",
       "   'p': 0.6923076923076923,\n",
       "   'r': 0.6136363636363636},\n",
       "  'rouge-2': {'f': 0.49382715551287915,\n",
       "   'p': 0.5263157894736842,\n",
       "   'r': 0.46511627906976744},\n",
       "  'rouge-l': {'f': 0.6506024046566993,\n",
       "   'p': 0.6923076923076923,\n",
       "   'r': 0.6136363636363636}}]"
      ]
     },
     "metadata": {},
     "execution_count": 33
    }
   ],
   "source": [
    "score2"
   ]
  },
  {
   "cell_type": "code",
   "execution_count": 15,
   "metadata": {},
   "outputs": [
    {
     "output_type": "execute_result",
     "data": {
      "text/plain": [
       "{'f': 0.5951219462468241, 'p': 0.6425320056899004, 'r': 0.5542283298097253}"
      ]
     },
     "metadata": {},
     "execution_count": 15
    }
   ],
   "source": [
    "score3"
   ]
  },
  {
   "cell_type": "code",
   "execution_count": 13,
   "metadata": {},
   "outputs": [
    {
     "output_type": "execute_result",
     "data": {
      "text/plain": [
       "('世界卫生组织发布了一份报告，指出自杀已经取代难产，成为全球年轻女性的头号杀手。',\n",
       " '世界卫生组织发布报告称，在过去10年，自杀取代难产死亡，成为全球年轻女性死亡的最主要原因')"
      ]
     },
     "metadata": {},
     "execution_count": 13
    }
   ],
   "source": [
    "res[1],test_res[1]"
   ]
  },
  {
   "cell_type": "code",
   "execution_count": null,
   "metadata": {},
   "outputs": [],
   "source": []
  }
 ]
}