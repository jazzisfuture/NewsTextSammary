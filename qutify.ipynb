{
 "metadata": {
  "language_info": {
   "codemirror_mode": {
    "name": "ipython",
    "version": 3
   },
   "file_extension": ".py",
   "mimetype": "text/x-python",
   "name": "python",
   "nbconvert_exporter": "python",
   "pygments_lexer": "ipython3",
   "version": "3.7.7"
  },
  "orig_nbformat": 2,
  "kernelspec": {
   "name": "python377jvsc74a57bd05509c4c259a5a49102f826d234aea18f0c83b903638cb80c1a627f502e3896ba",
   "display_name": "Python 3.7.7 64-bit ('pytorch': conda)"
  }
 },
 "nbformat": 4,
 "nbformat_minor": 2,
 "cells": [
  {
   "cell_type": "code",
   "execution_count": 1,
   "metadata": {},
   "outputs": [
    {
     "output_type": "stream",
     "name": "stdout",
     "text": [
      "精简后的词表大小为：13584\n",
      "./model_file/trained_model/summary_roberta_wwm.bin loaded!\n"
     ]
    }
   ],
   "source": [
    "import torch\n",
    "import sys,os\n",
    "sys.path.append(os.pardir)\n",
    "from bert_seq2seq.tokenizer import Tokenizer, load_chinese_base_vocab\n",
    "import json\n",
    "import time\n",
    "import bert_seq2seq\n",
    "from bert_seq2seq.utils import load_bert\n",
    "\n",
    "model = \"./model_file/trained_model/summary_roberta_wwm.bin\"\n",
    "model2 = \"./model_file/trained_model/summary_roberta_wwm_256.bin\"\n",
    "# pretrian = \"./model_file/roberta_wwm.bin\"\n",
    "vocab_text = \"./vocab/vocab.txt\"\n",
    "model_name = \"roberta\"\n",
    "# writer = SummaryWriter(\"log\")\n",
    "\n",
    "device = torch.device(\"cpu\")\n",
    "\n",
    "# 加载字典\n",
    "word2idx,_ = load_chinese_base_vocab(vocab_path=vocab_text,simplfied=True)\n",
    "tokenizer = Tokenizer(word2idx)\n",
    "# 定义模型\n",
    "bert_model = load_bert(word2idx,model_name=model_name)\n",
    "bert_model.set_device(device)\n",
    "bert_model.eval()\n",
    "bert_model.load_all_params(model_path=model, device=device)"
   ]
  },
  {
   "cell_type": "code",
   "execution_count": 9,
   "metadata": {},
   "outputs": [],
   "source": [
    "bert_model.qconfig = torch.quantization.get_default_qconfig('fbgemm')"
   ]
  },
  {
   "cell_type": "code",
   "execution_count": 2,
   "metadata": {},
   "outputs": [],
   "source": [
    "model_int8 = torch.quantization.quantize_dynamic(\n",
    "    bert_model,  # the original model\n",
    "    {torch.nn.Linear},  # a set of layers to dynamically quantize\n",
    "    dtype=torch.qint8)  \n"
   ]
  },
  {
   "cell_type": "code",
   "execution_count": 3,
   "metadata": {},
   "outputs": [],
   "source": [
    "import pandas as pd\n",
    "df = pd.read_csv(\"./dataset/train_with_summ.csv\")\n",
    "del df[\"Unnamed: 0\"]\n",
    "df.head()\n",
    "text = df[\"article\"][:1]"
   ]
  },
  {
   "cell_type": "code",
   "execution_count": 7,
   "metadata": {},
   "outputs": [],
   "source": [
    "model_int8.save_all_params(\"./model_file/trained_model/int8_roberta.pth\")"
   ]
  },
  {
   "cell_type": "code",
   "execution_count": null,
   "metadata": {},
   "outputs": [],
   "source": []
  }
 ]
}